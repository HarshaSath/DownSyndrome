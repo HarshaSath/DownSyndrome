{
  "cells": [
    {
      "cell_type": "code",
      "execution_count": 24,
      "metadata": {
        "colab": {
          "base_uri": "https://localhost:8080/"
        },
        "id": "UOpsD62TGR7e",
        "outputId": "3dabefaf-174f-4188-c871-b353b39d1a68"
      },
      "outputs": [
        {
          "name": "stdout",
          "output_type": "stream",
          "text": [
            "Mounted at /content/drive\n"
          ]
        }
      ],
      "source": [
        "from google.colab import drive\n",
        "drive.mount('/content/drive')"
      ]
    },
    {
      "cell_type": "code",
      "execution_count": 4,
      "metadata": {
        "id": "DXnAOlY52_Bh"
      },
      "outputs": [],
      "source": [
        " import spacy\n",
        " from spacy.tokens import DocBin\n",
        " from tqdm import tqdm\n",
        "\n",
        " nlp = spacy.blank(\"en\") # load a new spacy model\n",
        " db = DocBin() # create a DocBin object"
      ]
    },
    {
      "cell_type": "code",
      "execution_count": 5,
      "metadata": {
        "id": "XtdzokHe3xD2"
      },
      "outputs": [],
      "source": [
        "import json\n",
        "f = open('/content/drive/MyDrive/Colab Notebooks/downcy_symp/annotations.json')\n",
        "TRAIN_DATA = json.load(f)"
      ]
    },
    {
      "cell_type": "code",
      "execution_count": null,
      "metadata": {
        "id": "80q2N1bC4l9R"
      },
      "outputs": [],
      "source": [
        "TRAIN_DATA"
      ]
    },
    {
      "cell_type": "code",
      "execution_count": 6,
      "metadata": {
        "colab": {
          "base_uri": "https://localhost:8080/"
        },
        "id": "tPJd93N444fc",
        "outputId": "749f3a7d-1ef8-4b6f-c913-44216aa0d074"
      },
      "outputs": [
        {
          "name": "stderr",
          "output_type": "stream",
          "text": [
            "100%|██████████| 201/201 [00:03<00:00, 66.00it/s]\n"
          ]
        }
      ],
      "source": [
        "for text, annot in tqdm(TRAIN_DATA['annotations']):\n",
        "  doc = nlp.make_doc(text)\n",
        "  ents = []\n",
        "  for start, end, label in annot[\"entities\"]:\n",
        "    span = doc.char_span(start, end, label=label, alignment_mode=\"contract\")\n",
        "    if span is None:\n",
        "      print(\"Skipping entity\")\n",
        "    else:\n",
        "      ents.append(span)\n",
        "  doc.ents = ents\n",
        "  db.add(doc)\n",
        "\n",
        "  db.to_disk(\"/content/drive/MyDrive/Colab Notebooks/downcy_symp/training_data.spacy\")"
      ]
    },
    {
      "cell_type": "code",
      "execution_count": 7,
      "metadata": {
        "colab": {
          "base_uri": "https://localhost:8080/"
        },
        "id": "PoJ2fAF_6q21",
        "outputId": "aea57a55-cd5b-4679-d764-a22f25145302"
      },
      "outputs": [
        {
          "name": "stdout",
          "output_type": "stream",
          "text": [
            "2023-09-28 09:24:49.446610: W tensorflow/compiler/tf2tensorrt/utils/py_utils.cc:38] TF-TRT Warning: Could not find TensorRT\n",
            "\u001b[38;5;3m⚠ To generate a more effective transformer-based config (GPU-only),\n",
            "install the spacy-transformers package and re-run this command. The config\n",
            "generated now does not use transformers.\u001b[0m\n",
            "\u001b[38;5;4mℹ Generated config template specific for your use case\u001b[0m\n",
            "- Language: en\n",
            "- Pipeline: ner\n",
            "- Optimize for: efficiency\n",
            "- Hardware: CPU\n",
            "- Transformer: None\n",
            "\u001b[38;5;2m✔ Auto-filled config with all values\u001b[0m\n",
            "\u001b[38;5;2m✔ Saved config\u001b[0m\n",
            "/content/drive/MyDrive/Colab Notebooks/downcy_symp/config.cfg\n",
            "You can now add your data and train your pipeline:\n",
            "python -m spacy train config.cfg --paths.train ./train.spacy --paths.dev ./dev.spacy\n"
          ]
        }
      ],
      "source": [
        "! python -m spacy init config \"/content/drive/MyDrive/Colab Notebooks/downcy_symp/config.cfg\" --lang en --pipeline ner --optimize efficiency"
      ]
    },
    {
      "cell_type": "code",
      "execution_count": 10,
      "metadata": {
        "colab": {
          "base_uri": "https://localhost:8080/"
        },
        "id": "e83u2lGM8sh7",
        "outputId": "d7f62dfe-afa1-41b9-c86a-bb3fae73453c"
      },
      "outputs": [
        {
          "name": "stdout",
          "output_type": "stream",
          "text": [
            "2023-09-28 09:27:45.817609: W tensorflow/compiler/tf2tensorrt/utils/py_utils.cc:38] TF-TRT Warning: Could not find TensorRT\n",
            "\u001b[38;5;4mℹ Saving to output directory: .\u001b[0m\n",
            "\u001b[38;5;4mℹ Using CPU\u001b[0m\n",
            "\u001b[38;5;4mℹ To switch to GPU 0, use the option: --gpu-id 0\u001b[0m\n",
            "\u001b[1m\n",
            "=========================== Initializing pipeline ===========================\u001b[0m\n",
            "\u001b[38;5;2m✔ Initialized pipeline\u001b[0m\n",
            "\u001b[1m\n",
            "============================= Training pipeline =============================\u001b[0m\n",
            "\u001b[38;5;4mℹ Pipeline: ['tok2vec', 'ner']\u001b[0m\n",
            "\u001b[38;5;4mℹ Initial learn rate: 0.001\u001b[0m\n",
            "E    #       LOSS TOK2VEC  LOSS NER  ENTS_F  ENTS_P  ENTS_R  SCORE \n",
            "---  ------  ------------  --------  ------  ------  ------  ------\n",
            "  0       0          0.00     35.40    0.00    0.00    0.00    0.00\n",
            "  2     200       2545.59   3709.72   45.52   47.10   44.03    0.46\n",
            "  5     400        235.73    919.10   86.80   86.61   86.98    0.87\n",
            "  8     600        408.23    575.84   92.37   92.78   91.97    0.92\n",
            " 12     800        224.34    325.78   95.98   96.09   95.88    0.96\n",
            " 18    1000        225.68    301.10   96.73   97.16   96.31    0.97\n",
            " 24    1200        242.12    228.29   98.48   98.48   98.48    0.98\n",
            " 33    1400        428.54    188.05   99.02   99.13   98.92    0.99\n",
            " 44    1600        194.95    158.97   99.35   99.35   99.35    0.99\n",
            " 57    1800        137.86    115.63   99.35   99.35   99.35    0.99\n",
            " 74    2000        214.55    138.29   99.35   99.35   99.35    0.99\n",
            " 94    2200        259.80    151.84   99.35   99.35   99.35    0.99\n",
            "118    2400        253.77    180.07   99.35   99.35   99.35    0.99\n",
            "143    2600        245.54    187.75   99.35   99.35   99.35    0.99\n",
            "168    2800        220.50    177.20   99.35   99.35   99.35    0.99\n",
            "193    3000         87.77    147.74   99.35   99.35   99.35    0.99\n",
            "218    3200        144.62    153.08   99.35   99.35   99.35    0.99\n",
            "\u001b[38;5;2m✔ Saved pipeline to output directory\u001b[0m\n",
            "model-last\n"
          ]
        }
      ],
      "source": [
        "!python -m spacy train \"/content/drive/MyDrive/Colab Notebooks/downcy_symp/config.cfg\" --output ./ --paths.train=\"/content/drive/MyDrive/Colab Notebooks/downcy_symp/training_data.spacy\" --paths.dev=\"/content/drive/MyDrive/Colab Notebooks/downcy_symp/training_data.spacy\""
      ]
    },
    {
      "cell_type": "code",
      "execution_count": 12,
      "metadata": {
        "id": "J-n5ezxnR_eg"
      },
      "outputs": [],
      "source": [
        "nlp_ner = spacy.load(\"/content/model-last\")"
      ]
    },
    {
      "cell_type": "code",
      "execution_count": 13,
      "metadata": {
        "id": "1_XcF6T-XmJ_"
      },
      "outputs": [],
      "source": [
        "doc = nlp_ner(''' I was watching a health documentary, and they mentioned kids with an unusually small head. It struck me because my child has the same. Can you advise?  ''')"
      ]
    },
    {
      "cell_type": "code",
      "execution_count": 14,
      "metadata": {
        "colab": {
          "base_uri": "https://localhost:8080/",
          "height": 87
        },
        "id": "GUe4CSpKX7rJ",
        "outputId": "5a4f7f7e-715f-4e2f-b42f-a8d6211e4eaa"
      },
      "outputs": [
        {
          "data": {
            "text/html": [
              "<span class=\"tex2jax_ignore\"><div class=\"entities\" style=\"line-height: 2.5; direction: ltr\"> I was watching a health documentary, and they mentioned kids with an unusually \n",
              "<mark class=\"entity\" style=\"background: #ddd; padding: 0.45em 0.6em; margin: 0 0.25em; line-height: 1; border-radius: 0.35em;\">\n",
              "    small head.\n",
              "    <span style=\"font-size: 0.8em; font-weight: bold; line-height: 1; border-radius: 0.35em; vertical-align: middle; margin-left: 0.5rem\">DOWN SYNDROME</span>\n",
              "</mark>\n",
              " It struck me because my child has the same. Can you advise?  </div></span>"
            ],
            "text/plain": [
              "<IPython.core.display.HTML object>"
            ]
          },
          "metadata": {},
          "output_type": "display_data"
        }
      ],
      "source": [
        "spacy.displacy.render(doc, style=\"ent\", jupyter=True)"
      ]
    },
    {
      "cell_type": "code",
      "execution_count": 25,
      "metadata": {
        "id": "fnBnCrWKyfKK"
      },
      "outputs": [],
      "source": [
        "import zipfile\n",
        "import os\n",
        "\n",
        "def zip_folder(folder_path, output_path):\n",
        "    with zipfile.ZipFile(output_path, 'w', zipfile.ZIP_DEFLATED) as zipf:\n",
        "        for root, dirs, files in os.walk(folder_path):\n",
        "            for file in files:\n",
        "                file_path = os.path.join(root, file)\n",
        "                zipf.write(file_path, os.path.relpath(file_path, folder_path))\n",
        "\n",
        "# Specify the folder path and output path\n",
        "folder_path = '/content/drive/MyDrive/Colab Notebooks/downcy_symp/'  # Replace with your folder path\n",
        "output_path = '/content/drive/MyDrive/Colab Notebooks/downcy_symp.zip'  # Replace with your desired output path\n",
        "\n",
        "# Zip the folder\n",
        "zip_folder(folder_path, output_path)"
      ]
    },
    {
      "cell_type": "code",
      "execution_count": 30,
      "metadata": {
        "colab": {
          "base_uri": "https://localhost:8080/"
        },
        "id": "sRMXnNW3NJAl",
        "outputId": "c4cff969-089b-4a28-f6f2-010c3e234080"
      },
      "outputs": [
        {
          "name": "stdout",
          "output_type": "stream",
          "text": [
            "The folder has been successfully zipped and saved to: /content/drive/MyDrive/downcy_symp/model-last.zip\n"
          ]
        }
      ],
      "source": [
        "import shutil\n",
        "import zipfile\n",
        "import os\n",
        "\n",
        "# Source folder path to be zipped\n",
        "source_folder_path = '/content/model-last'\n",
        "\n",
        "# Destination zip file path\n",
        "destination_zip_path = '/content/drive/MyDrive/downcy_symp/model-last.zip'\n",
        "\n",
        "# Zip the source folder\n",
        "def zip_folder(folder_path, output_path):\n",
        "    with zipfile.ZipFile(output_path, 'w', zipfile.ZIP_DEFLATED) as zipf:\n",
        "        for root, dirs, files in os.walk(folder_path):\n",
        "            for file in files:\n",
        "                file_path = os.path.join(root, file)\n",
        "                zipf.write(file_path, os.path.relpath(file_path, folder_path))\n",
        "\n",
        "# Zip the folder\n",
        "zip_folder(source_folder_path, destination_zip_path)\n",
        "\n",
        "# Verify if the zip file has been created successfully\n",
        "if os.path.exists(destination_zip_path):\n",
        "    print(f'The folder has been successfully zipped and saved to: {destination_zip_path}')\n",
        "else:\n",
        "    print('Failed to zip the folder.')\n"
      ]
    }
  ],
  "metadata": {
    "accelerator": "GPU",
    "colab": {
      "gpuType": "T4",
      "provenance": []
    },
    "kernelspec": {
      "display_name": "Python 3 (ipykernel)",
      "language": "python",
      "name": "python3"
    },
    "language_info": {
      "codemirror_mode": {
        "name": "ipython",
        "version": 3
      },
      "file_extension": ".py",
      "mimetype": "text/x-python",
      "name": "python",
      "nbconvert_exporter": "python",
      "pygments_lexer": "ipython3",
      "version": "3.9.12"
    }
  },
  "nbformat": 4,
  "nbformat_minor": 0
}
